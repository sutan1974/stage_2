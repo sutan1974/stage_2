{
 "cells": [
  {
   "cell_type": "code",
   "execution_count": null,
   "metadata": {
    "id": "SutYyuB72YW7"
   },
   "outputs": [],
   "source": [
    "from google.colab import drive\n",
    "drive.mount('/content/drive')"
   ]
  },
  {
   "cell_type": "code",
   "execution_count": 4,
   "metadata": {
    "id": "s5YtkEgz2aN4"
   },
   "outputs": [],
   "source": [
    "from xgboost import XGBRegressor\n",
    "import pandas as pd\n",
    "from sklearn.metrics import mean_absolute_error, mean_squared_error, mean_absolute_percentage_error\n",
    "from sklearn.model_selection import train_test_split, KFold, cross_val_score, GridSearchCV\n",
    "import numpy as np\n",
    "import matplotlib.pyplot as plt\n",
    "import joblib\n",
    "from sklearn.datasets import make_regression\n",
    "import warnings\n",
    "warnings.filterwarnings(\"ignore\")"
   ]
  },
  {
   "cell_type": "code",
   "execution_count": 6,
   "metadata": {
    "id": "wQYKbjL92hs5"
   },
   "outputs": [],
   "source": [
    "calendar_df = pd.read_csv(\"C:/Users/ADMIN/Rakamin/Week 16/calendar.csv\")\n",
    "listings_df = pd.read_csv(\"C:/Users/ADMIN/Rakamin/Week 16/listings.csv\")\n",
    "reviews_df = pd.read_csv(\"C:/Users/ADMIN/Rakamin/Week 16/reviews.csv\")"
   ]
  },
  {
   "cell_type": "code",
   "execution_count": 8,
   "metadata": {
    "id": "GXpbTdoLJ9U1"
   },
   "outputs": [],
   "source": [
    "# Remove currency symbols and convert 'price' to numeric in listings_df\n",
    "listings_df['price'] = listings_df['price'].replace('[\\$,]', '', regex=True).astype(float)\n",
    "\n",
    "# Remove currency symbols and convert 'price' to numeric in calendar_df\n",
    "calendar_df['price'] = calendar_df['price'].replace('[\\$,]', '', regex=True).astype(float)\n",
    "\n",
    "# Fill missing values with median in calendar_df\n",
    "calendar_df['price'].fillna(calendar_df['price'].median(), inplace=True)\n",
    "\n",
    "# Fill missing values in listings_df\n",
    "listings_df['reviews_per_month'].fillna(listings_df['reviews_per_month'].median(), inplace=True)\n",
    "\n",
    "# Fill missing values in reviews_df\n",
    "reviews_df['comments'].fillna('No Comments', inplace=True)\n",
    "\n",
    "# Check missing values after handling\n",
    "calendar_missing_values_after = calendar_df.isnull().sum()\n",
    "listings_missing_values_after = listings_df.isnull().sum()\n",
    "reviews_missing_values_after = reviews_df.isnull().sum()\n",
    "\n",
    "\n",
    "# Convert 'date' columns to datetime\n",
    "calendar_df['date'] = pd.to_datetime(calendar_df['date'], errors='coerce')\n",
    "reviews_df['date'] = pd.to_datetime(reviews_df['date'], errors='coerce')\n",
    "\n",
    "# Standardize categorical values in 'room_type'\n",
    "listings_df['room_type'] = listings_df['room_type'].str.strip().str.lower()\n",
    "\n",
    "# Remove extra spaces in 'reviewer_name'\n",
    "reviews_df['reviewer_name'] = reviews_df['reviewer_name'].str.strip().str.title()\n",
    "\n",
    "\n",
    "# Drop duplicates based on the correct column name\n",
    "listings_df.drop_duplicates(subset=['id'], inplace=True)\n",
    "reviews_df.drop_duplicates(subset=['reviewer_id'], inplace=True)\n",
    "\n"
   ]
  },
  {
   "cell_type": "code",
   "execution_count": 10,
   "metadata": {
    "id": "pIQmK3lfJMJu"
   },
   "outputs": [],
   "source": [
    "# Mengimpor library tambahan\n",
    "from sklearn.linear_model import LinearRegression\n",
    "from sklearn.metrics import mean_absolute_error\n",
    "from sklearn.preprocessing import LabelEncoder\n",
    "\n",
    "# Memilih fitur yang relevan untuk model\n",
    "# Menggunakan fitur seperti 'bedrooms', 'beds', 'host_listings_count', dan 'zipcode'\n",
    "X = listings_df[['bedrooms', 'beds', 'host_listings_count', 'zipcode']]\n",
    "y = listings_df['price']\n",
    "\n",
    "# Menangani nilai kategori dalam 'zipcode' menggunakan LabelEncoder\n",
    "label_encoder = LabelEncoder()\n",
    "X['zipcode'] = label_encoder.fit_transform(X['zipcode'])\n",
    "\n",
    "# Mengisi missing values pada fitur yang masih memiliki nilai kosong\n",
    "X.fillna(X.median(), inplace=True)\n",
    "y.fillna(y.median(), inplace=True)\n",
    "\n",
    "# Membagi dataset menjadi data latih dan data uji\n",
    "X_train, X_test, y_train, y_test = train_test_split(X, y, test_size=0.2, random_state=42)"
   ]
  },
  {
   "cell_type": "code",
   "execution_count": 12,
   "metadata": {
    "colab": {
     "base_uri": "https://localhost:8080/"
    },
    "id": "tRugA3fF3B5I",
    "outputId": "d782331a-ede1-4f32-9926-f017fdb44d3e"
   },
   "outputs": [
    {
     "name": "stdout",
     "output_type": "stream",
     "text": [
      "Fitting 3 folds for each of 1024 candidates, totalling 3072 fits\n",
      "Best hyperparameters using GridSearchCV (XGBoost):  {'colsample_bytree': 0.7, 'learning_rate': 0.1, 'max_depth': 3, 'n_estimators': 200, 'subsample': 0.9}\n",
      "Mean Absolute Error (MAE) for XGBoost after GridSearchCV: 8.121748533179867\n",
      "Root Mean Squared Error (RMSE) for XGBoost after GridSearchCV: 10.698328929531794\n",
      "Mean Absolute Percentage Error (MAPE) for XGBoost after GridSearchCV: 0.3681034410705682\n",
      "K-Fold Cross-Validation MAE for XGBoost (GridSearchCV): 9.339806090043496\n",
      "K-Fold Cross-Validation RMSE for XGBoost (GridSearchCV): 13.041327826239405\n",
      "K-Fold Cross-Validation MAPE for XGBoost (GridSearchCV): 0.363613858791384\n"
     ]
    }
   ],
   "source": [
    "from xgboost import XGBRegressor\n",
    "from sklearn.metrics import mean_absolute_error, mean_squared_error\n",
    "from sklearn.model_selection import train_test_split, KFold, cross_val_score\n",
    "import numpy as np\n",
    "import matplotlib.pyplot as plt\n",
    "import joblib\n",
    "from sklearn.model_selection import GridSearchCV\n",
    "\n",
    "# Define the parameter grid for GridSearchCV for XGBoost\n",
    "param_grid_xgb = {\n",
    "    'n_estimators': [50, 100, 150, 200],  # Number of boosting rounds\n",
    "    'learning_rate': [0.01, 0.05, 0.1, 0.2],  # Learning rate\n",
    "    'max_depth': [3, 4, 5, 6],  # Depth of the trees\n",
    "    'subsample': [0.7, 0.8, 0.9, 1.0],  # Fraction of samples used per boosting round\n",
    "    'colsample_bytree': [0.7, 0.8, 0.9, 1.0]  # Fraction of features used per tree\n",
    "}\n",
    "# Generate dataset\n",
    "from sklearn.datasets import make_regression\n",
    "X, y = make_regression(n_samples=1000, n_features=4, noise=0.1, random_state=42)\n",
    "\n",
    "# Split into train and test sets\n",
    "X_train, X_test, y_train, y_test = train_test_split(X, y, test_size=0.2, random_state=42)\n",
    "\n",
    "# Create XGBoost Regressor model with default parameters\n",
    "xgb_model = XGBRegressor(objective='reg:squarederror', random_state=42)\n",
    "\n",
    "# Train the model\n",
    "xgb_model.fit(X_train, y_train)\n",
    "\n",
    "# Predict with the trained model\n",
    "y_xgb_pred = xgb_model.predict(X_test)\n",
    "\n",
    "# Create GridSearchCV with XGBoost Regressor\n",
    "grid_search_xgb = GridSearchCV(estimator=xgb_model, param_grid=param_grid_xgb,\n",
    "                               cv=3, n_jobs=-1, verbose=2)\n",
    "\n",
    "# Train the model with GridSearchCV\n",
    "grid_search_xgb.fit(X_train, y_train)\n",
    "\n",
    "# Display the best hyperparameters from GridSearchCV\n",
    "best_params_grid_xgb = grid_search_xgb.best_params_\n",
    "print(\"Best hyperparameters using GridSearchCV (XGBoost): \", best_params_grid_xgb)\n",
    "\n",
    "# Predict with the best model\n",
    "y_xgb_pred_grid = grid_search_xgb.predict(X_test)\n",
    "\n",
    "# Calculate MAE and RMSE for the best model\n",
    "xgb_mae_grid = mean_absolute_error(y_test, y_xgb_pred_grid)\n",
    "xgb_rmse_grid = np.sqrt(mean_squared_error(y_test, y_xgb_pred_grid))\n",
    "\n",
    "print(f\"Mean Absolute Error (MAE) for XGBoost after GridSearchCV: {xgb_mae_grid}\")\n",
    "print(f\"Root Mean Squared Error (RMSE) for XGBoost after GridSearchCV: {xgb_rmse_grid}\")\n",
    "\n",
    "# Compute MAPE for the best model\n",
    "xgb_mape_grid = mean_absolute_percentage_error(y_test, y_xgb_pred_grid)\n",
    "print(f\"Mean Absolute Percentage Error (MAPE) for XGBoost after GridSearchCV: {xgb_mape_grid}\")\n",
    "\n",
    "# K-Fold Cross Validation\n",
    "kf = KFold(n_splits=5,  shuffle=True, random_state=42)\n",
    "\n",
    "cv_mae_grid_xgb = cross_val_score(grid_search_xgb.best_estimator_, X_train, y_train, cv=kf, scoring='neg_mean_absolute_error')\n",
    "cv_rmse_grid_xgb = cross_val_score(grid_search_xgb.best_estimator_, X_train, y_train, cv=kf, scoring='neg_root_mean_squared_error')\n",
    "\n",
    "# Evaluasi MAPE dengan k-fold cross-validation\n",
    "cv_mape_grid_xgb = cross_val_score(grid_search_xgb.best_estimator_, X_train, y_train, cv=kf,\n",
    "                                   scoring=lambda estimator, X, y: -mean_absolute_percentage_error(y, estimator.predict(X)))\n",
    "\n",
    "# Display cross-validation results\n",
    "print(f\"K-Fold Cross-Validation MAE for XGBoost (GridSearchCV): {-cv_mae_grid_xgb.mean()}\")\n",
    "print(f\"K-Fold Cross-Validation RMSE for XGBoost (GridSearchCV): {-cv_rmse_grid_xgb.mean()}\")\n",
    "print(f\"K-Fold Cross-Validation MAPE for XGBoost (GridSearchCV): {-cv_mape_grid_xgb.mean()}\")\n"
   ]
  },
  {
   "cell_type": "code",
   "execution_count": 14,
   "metadata": {
    "colab": {
     "base_uri": "https://localhost:8080/"
    },
    "id": "LCSF266BmG8Q",
    "outputId": "43dea3a0-ff66-40c8-fe1d-e24c545b328c"
   },
   "outputs": [
    {
     "data": {
      "text/plain": [
       "['XGboost_GridSearchCV.jodlib']"
      ]
     },
     "execution_count": 14,
     "metadata": {},
     "output_type": "execute_result"
    }
   ],
   "source": [
    "joblib.dump(grid_search_xgb, 'XGboost_GridSearchCV.jodlib')"
   ]
  },
  {
   "cell_type": "code",
   "execution_count": 15,
   "metadata": {
    "colab": {
     "base_uri": "https://localhost:8080/"
    },
    "id": "5y1d9Lzivz-J",
    "outputId": "6b2f8d06-2d2f-4a97-9ede-7a010bf07180"
   },
   "outputs": [
    {
     "data": {
      "text/plain": [
       "array([31.089327], dtype=float32)"
      ]
     },
     "execution_count": 15,
     "metadata": {},
     "output_type": "execute_result"
    }
   ],
   "source": [
    "grid_search_xgb.predict(X_test[:1])"
   ]
  },
  {
   "cell_type": "code",
   "execution_count": 18,
   "metadata": {},
   "outputs": [
    {
     "name": "stdout",
     "output_type": "stream",
     "text": [
      "Collecting streamlitNote: you may need to restart the kernel to use updated packages.\n",
      "\n",
      "  Obtaining dependency information for streamlit from https://files.pythonhosted.org/packages/bf/14/a95ac354fe9ca59ee9d030dc738dac8ac04bd32f9d7c3f2c790eb6431ab1/streamlit-1.43.1-py2.py3-none-any.whl.metadata\n",
      "  Downloading streamlit-1.43.1-py2.py3-none-any.whl.metadata (8.9 kB)\n",
      "Collecting altair<6,>=4.0 (from streamlit)\n",
      "  Obtaining dependency information for altair<6,>=4.0 from https://files.pythonhosted.org/packages/aa/f3/0b6ced594e51cc95d8c1fc1640d3623770d01e4969d29c0bd09945fafefa/altair-5.5.0-py3-none-any.whl.metadata\n",
      "  Downloading altair-5.5.0-py3-none-any.whl.metadata (11 kB)\n",
      "Collecting blinker<2,>=1.0.0 (from streamlit)\n",
      "  Obtaining dependency information for blinker<2,>=1.0.0 from https://files.pythonhosted.org/packages/10/cb/f2ad4230dc2eb1a74edf38f1a38b9b52277f75bef262d8908e60d957e13c/blinker-1.9.0-py3-none-any.whl.metadata\n",
      "  Downloading blinker-1.9.0-py3-none-any.whl.metadata (1.6 kB)\n",
      "Collecting cachetools<6,>=4.0 (from streamlit)\n",
      "  Obtaining dependency information for cachetools<6,>=4.0 from https://files.pythonhosted.org/packages/72/76/20fa66124dbe6be5cafeb312ece67de6b61dd91a0247d1ea13db4ebb33c2/cachetools-5.5.2-py3-none-any.whl.metadata\n",
      "  Downloading cachetools-5.5.2-py3-none-any.whl.metadata (5.4 kB)\n",
      "Requirement already satisfied: click<9,>=7.0 in c:\\users\\admin\\anaconda3\\lib\\site-packages (from streamlit) (8.0.4)\n",
      "Requirement already satisfied: numpy<3,>=1.23 in c:\\users\\admin\\anaconda3\\lib\\site-packages (from streamlit) (1.24.3)\n",
      "Requirement already satisfied: packaging<25,>=20 in c:\\users\\admin\\anaconda3\\lib\\site-packages (from streamlit) (23.1)\n",
      "Requirement already satisfied: pandas<3,>=1.4.0 in c:\\users\\admin\\anaconda3\\lib\\site-packages (from streamlit) (2.0.3)\n",
      "Requirement already satisfied: pillow<12,>=7.1.0 in c:\\users\\admin\\anaconda3\\lib\\site-packages (from streamlit) (10.3.0)\n",
      "Collecting protobuf<6,>=3.20 (from streamlit)\n",
      "  Obtaining dependency information for protobuf<6,>=3.20 from https://files.pythonhosted.org/packages/61/fa/aae8e10512b83de633f2646506a6d835b151edf4b30d18d73afd01447253/protobuf-5.29.3-cp310-abi3-win_amd64.whl.metadata\n",
      "  Downloading protobuf-5.29.3-cp310-abi3-win_amd64.whl.metadata (592 bytes)\n",
      "Requirement already satisfied: pyarrow>=7.0 in c:\\users\\admin\\anaconda3\\lib\\site-packages (from streamlit) (11.0.0)\n",
      "Requirement already satisfied: requests<3,>=2.27 in c:\\users\\admin\\anaconda3\\lib\\site-packages (from streamlit) (2.31.0)\n",
      "Requirement already satisfied: tenacity<10,>=8.1.0 in c:\\users\\admin\\anaconda3\\lib\\site-packages (from streamlit) (8.2.2)\n",
      "Requirement already satisfied: toml<2,>=0.10.1 in c:\\users\\admin\\anaconda3\\lib\\site-packages (from streamlit) (0.10.2)\n",
      "Requirement already satisfied: typing-extensions<5,>=4.4.0 in c:\\users\\admin\\anaconda3\\lib\\site-packages (from streamlit) (4.12.2)\n",
      "Requirement already satisfied: watchdog<7,>=2.1.5 in c:\\users\\admin\\anaconda3\\lib\\site-packages (from streamlit) (2.1.6)\n",
      "Collecting gitpython!=3.1.19,<4,>=3.0.7 (from streamlit)\n",
      "  Obtaining dependency information for gitpython!=3.1.19,<4,>=3.0.7 from https://files.pythonhosted.org/packages/1d/9a/4114a9057db2f1462d5c8f8390ab7383925fe1ac012eaa42402ad65c2963/GitPython-3.1.44-py3-none-any.whl.metadata\n",
      "  Downloading GitPython-3.1.44-py3-none-any.whl.metadata (13 kB)\n",
      "Collecting pydeck<1,>=0.8.0b4 (from streamlit)\n",
      "  Obtaining dependency information for pydeck<1,>=0.8.0b4 from https://files.pythonhosted.org/packages/ab/4c/b888e6cf58bd9db9c93f40d1c6be8283ff49d88919231afe93a6bcf61626/pydeck-0.9.1-py2.py3-none-any.whl.metadata\n",
      "  Downloading pydeck-0.9.1-py2.py3-none-any.whl.metadata (4.1 kB)\n",
      "Requirement already satisfied: tornado<7,>=6.0.3 in c:\\users\\admin\\anaconda3\\lib\\site-packages (from streamlit) (6.3.2)\n",
      "Requirement already satisfied: jinja2 in c:\\users\\admin\\anaconda3\\lib\\site-packages (from altair<6,>=4.0->streamlit) (3.1.2)\n",
      "Requirement already satisfied: jsonschema>=3.0 in c:\\users\\admin\\anaconda3\\lib\\site-packages (from altair<6,>=4.0->streamlit) (4.23.0)\n",
      "Collecting narwhals>=1.14.2 (from altair<6,>=4.0->streamlit)\n",
      "  Obtaining dependency information for narwhals>=1.14.2 from https://files.pythonhosted.org/packages/f1/22/380df533b08a57bc9013bb5714f33c571e1447828d83213a66adaefc0a04/narwhals-1.29.1-py3-none-any.whl.metadata\n",
      "  Downloading narwhals-1.29.1-py3-none-any.whl.metadata (10 kB)\n",
      "Requirement already satisfied: colorama in c:\\users\\admin\\anaconda3\\lib\\site-packages (from click<9,>=7.0->streamlit) (0.4.6)\n",
      "Collecting gitdb<5,>=4.0.1 (from gitpython!=3.1.19,<4,>=3.0.7->streamlit)\n",
      "  Obtaining dependency information for gitdb<5,>=4.0.1 from https://files.pythonhosted.org/packages/a0/61/5c78b91c3143ed5c14207f463aecfc8f9dbb5092fb2869baf37c273b2705/gitdb-4.0.12-py3-none-any.whl.metadata\n",
      "  Downloading gitdb-4.0.12-py3-none-any.whl.metadata (1.2 kB)\n",
      "Requirement already satisfied: python-dateutil>=2.8.2 in c:\\users\\admin\\anaconda3\\lib\\site-packages (from pandas<3,>=1.4.0->streamlit) (2.8.2)\n",
      "Requirement already satisfied: pytz>=2020.1 in c:\\users\\admin\\anaconda3\\lib\\site-packages (from pandas<3,>=1.4.0->streamlit) (2023.3.post1)\n",
      "Requirement already satisfied: tzdata>=2022.1 in c:\\users\\admin\\anaconda3\\lib\\site-packages (from pandas<3,>=1.4.0->streamlit) (2023.3)\n",
      "Requirement already satisfied: charset-normalizer<4,>=2 in c:\\users\\admin\\anaconda3\\lib\\site-packages (from requests<3,>=2.27->streamlit) (2.0.4)\n",
      "Requirement already satisfied: idna<4,>=2.5 in c:\\users\\admin\\anaconda3\\lib\\site-packages (from requests<3,>=2.27->streamlit) (3.4)\n",
      "Requirement already satisfied: urllib3<3,>=1.21.1 in c:\\users\\admin\\anaconda3\\lib\\site-packages (from requests<3,>=2.27->streamlit) (1.26.16)\n",
      "Requirement already satisfied: certifi>=2017.4.17 in c:\\users\\admin\\anaconda3\\lib\\site-packages (from requests<3,>=2.27->streamlit) (2025.1.31)\n",
      "Collecting smmap<6,>=3.0.1 (from gitdb<5,>=4.0.1->gitpython!=3.1.19,<4,>=3.0.7->streamlit)\n",
      "  Obtaining dependency information for smmap<6,>=3.0.1 from https://files.pythonhosted.org/packages/04/be/d09147ad1ec7934636ad912901c5fd7667e1c858e19d355237db0d0cd5e4/smmap-5.0.2-py3-none-any.whl.metadata\n",
      "  Downloading smmap-5.0.2-py3-none-any.whl.metadata (4.3 kB)\n",
      "Requirement already satisfied: MarkupSafe>=2.0 in c:\\users\\admin\\anaconda3\\lib\\site-packages (from jinja2->altair<6,>=4.0->streamlit) (2.1.1)\n",
      "Requirement already satisfied: attrs>=22.2.0 in c:\\users\\admin\\anaconda3\\lib\\site-packages (from jsonschema>=3.0->altair<6,>=4.0->streamlit) (24.2.0)\n",
      "Requirement already satisfied: jsonschema-specifications>=2023.03.6 in c:\\users\\admin\\anaconda3\\lib\\site-packages (from jsonschema>=3.0->altair<6,>=4.0->streamlit) (2023.7.1)\n",
      "Requirement already satisfied: referencing>=0.28.4 in c:\\users\\admin\\anaconda3\\lib\\site-packages (from jsonschema>=3.0->altair<6,>=4.0->streamlit) (0.30.2)\n",
      "Requirement already satisfied: rpds-py>=0.7.1 in c:\\users\\admin\\anaconda3\\lib\\site-packages (from jsonschema>=3.0->altair<6,>=4.0->streamlit) (0.10.6)\n",
      "Requirement already satisfied: six>=1.5 in c:\\users\\admin\\anaconda3\\lib\\site-packages (from python-dateutil>=2.8.2->pandas<3,>=1.4.0->streamlit) (1.16.0)\n",
      "Downloading streamlit-1.43.1-py2.py3-none-any.whl (9.7 MB)\n",
      "   ---------------------------------------- 0.0/9.7 MB ? eta -:--:--\n",
      "    --------------------------------------- 0.1/9.7 MB 2.4 MB/s eta 0:00:05\n",
      "   - -------------------------------------- 0.3/9.7 MB 3.4 MB/s eta 0:00:03\n",
      "   -- ------------------------------------- 0.6/9.7 MB 4.1 MB/s eta 0:00:03\n",
      "   --- ------------------------------------ 0.9/9.7 MB 4.5 MB/s eta 0:00:02\n",
      "   --- ------------------------------------ 0.9/9.7 MB 4.6 MB/s eta 0:00:02\n",
      "   --- ------------------------------------ 0.9/9.7 MB 4.6 MB/s eta 0:00:02\n",
      "   ----- ---------------------------------- 1.2/9.7 MB 3.9 MB/s eta 0:00:03\n",
      "   ------ --------------------------------- 1.6/9.7 MB 4.6 MB/s eta 0:00:02\n",
      "   -------- ------------------------------- 2.0/9.7 MB 4.8 MB/s eta 0:00:02\n",
      "   -------- ------------------------------- 2.2/9.7 MB 4.8 MB/s eta 0:00:02\n",
      "   ---------- ----------------------------- 2.5/9.7 MB 4.9 MB/s eta 0:00:02\n",
      "   ---------- ----------------------------- 2.6/9.7 MB 4.8 MB/s eta 0:00:02\n",
      "   ---------- ----------------------------- 2.6/9.7 MB 4.8 MB/s eta 0:00:02\n",
      "   ----------- ---------------------------- 2.8/9.7 MB 4.3 MB/s eta 0:00:02\n",
      "   ------------- -------------------------- 3.2/9.7 MB 4.7 MB/s eta 0:00:02\n",
      "   -------------- ------------------------- 3.5/9.7 MB 4.7 MB/s eta 0:00:02\n",
      "   --------------- ------------------------ 3.8/9.7 MB 4.8 MB/s eta 0:00:02\n",
      "   ---------------- ----------------------- 4.0/9.7 MB 4.8 MB/s eta 0:00:02\n",
      "   ----------------- ---------------------- 4.3/9.7 MB 4.9 MB/s eta 0:00:02\n",
      "   ------------------ --------------------- 4.5/9.7 MB 5.0 MB/s eta 0:00:02\n",
      "   ------------------- -------------------- 4.8/9.7 MB 5.0 MB/s eta 0:00:01\n",
      "   -------------------- ------------------- 5.0/9.7 MB 5.0 MB/s eta 0:00:01\n",
      "   --------------------- ------------------ 5.3/9.7 MB 5.0 MB/s eta 0:00:01\n",
      "   ---------------------- ----------------- 5.5/9.7 MB 5.0 MB/s eta 0:00:01\n",
      "   ----------------------- ---------------- 5.8/9.7 MB 5.1 MB/s eta 0:00:01\n",
      "   ------------------------ --------------- 5.9/9.7 MB 5.0 MB/s eta 0:00:01\n",
      "   ------------------------ --------------- 6.0/9.7 MB 5.0 MB/s eta 0:00:01\n",
      "   ------------------------- -------------- 6.2/9.7 MB 4.8 MB/s eta 0:00:01\n",
      "   --------------------------- ------------ 6.6/9.7 MB 5.0 MB/s eta 0:00:01\n",
      "   ---------------------------- ----------- 6.9/9.7 MB 5.0 MB/s eta 0:00:01\n",
      "   ----------------------------- ---------- 7.1/9.7 MB 5.0 MB/s eta 0:00:01\n",
      "   ------------------------------ --------- 7.3/9.7 MB 5.0 MB/s eta 0:00:01\n",
      "   ------------------------------- -------- 7.6/9.7 MB 5.0 MB/s eta 0:00:01\n",
      "   -------------------------------- ------- 7.8/9.7 MB 5.0 MB/s eta 0:00:01\n",
      "   --------------------------------- ------ 8.1/9.7 MB 5.1 MB/s eta 0:00:01\n",
      "   ---------------------------------- ----- 8.3/9.7 MB 5.0 MB/s eta 0:00:01\n",
      "   ----------------------------------- ---- 8.5/9.7 MB 5.0 MB/s eta 0:00:01\n",
      "   ----------------------------------- ---- 8.7/9.7 MB 5.0 MB/s eta 0:00:01\n",
      "   ------------------------------------- -- 9.0/9.7 MB 5.1 MB/s eta 0:00:01\n",
      "   ------------------------------------- -- 9.2/9.7 MB 5.1 MB/s eta 0:00:01\n",
      "   -------------------------------------- - 9.4/9.7 MB 5.0 MB/s eta 0:00:01\n",
      "   ---------------------------------------  9.6/9.7 MB 5.0 MB/s eta 0:00:01\n",
      "   ---------------------------------------  9.7/9.7 MB 5.0 MB/s eta 0:00:01\n",
      "   ---------------------------------------- 9.7/9.7 MB 4.9 MB/s eta 0:00:00\n",
      "Downloading altair-5.5.0-py3-none-any.whl (731 kB)\n",
      "   ---------------------------------------- 0.0/731.2 kB ? eta -:--:--\n",
      "   -------------- ------------------------- 256.0/731.2 kB 5.2 MB/s eta 0:00:01\n",
      "   ------------------------ --------------- 450.6/731.2 kB 5.6 MB/s eta 0:00:01\n",
      "   ---------------------------------------  727.0/731.2 kB 5.7 MB/s eta 0:00:01\n",
      "   ---------------------------------------- 731.2/731.2 kB 5.1 MB/s eta 0:00:00\n",
      "Downloading blinker-1.9.0-py3-none-any.whl (8.5 kB)\n",
      "Downloading cachetools-5.5.2-py3-none-any.whl (10 kB)\n",
      "Downloading GitPython-3.1.44-py3-none-any.whl (207 kB)\n",
      "   ---------------------------------------- 0.0/207.6 kB ? eta -:--:--\n",
      "   ---------------------------------------- 207.6/207.6 kB 6.4 MB/s eta 0:00:00\n",
      "Downloading protobuf-5.29.3-cp310-abi3-win_amd64.whl (434 kB)\n",
      "   ---------------------------------------- 0.0/434.5 kB ? eta -:--:--\n",
      "   ----------------- ---------------------- 194.6/434.5 kB 5.9 MB/s eta 0:00:01\n",
      "   ------------------------------------ --- 399.4/434.5 kB 5.0 MB/s eta 0:00:01\n",
      "   ---------------------------------------- 434.5/434.5 kB 3.9 MB/s eta 0:00:00\n",
      "Downloading pydeck-0.9.1-py2.py3-none-any.whl (6.9 MB)\n",
      "   ---------------------------------------- 0.0/6.9 MB ? eta -:--:--\n",
      "    --------------------------------------- 0.1/6.9 MB 3.8 MB/s eta 0:00:02\n",
      "   - -------------------------------------- 0.3/6.9 MB 4.9 MB/s eta 0:00:02\n",
      "   -- ------------------------------------- 0.5/6.9 MB 3.8 MB/s eta 0:00:02\n",
      "   ---- ----------------------------------- 0.7/6.9 MB 4.3 MB/s eta 0:00:02\n",
      "   ------ --------------------------------- 1.0/6.9 MB 4.7 MB/s eta 0:00:02\n",
      "   ------ --------------------------------- 1.2/6.9 MB 4.4 MB/s eta 0:00:02\n",
      "   -------- ------------------------------- 1.5/6.9 MB 4.6 MB/s eta 0:00:02\n",
      "   --------- ------------------------------ 1.7/6.9 MB 4.8 MB/s eta 0:00:02\n",
      "   ----------- ---------------------------- 1.9/6.9 MB 4.9 MB/s eta 0:00:02\n",
      "   ------------ --------------------------- 2.2/6.9 MB 4.9 MB/s eta 0:00:01\n",
      "   -------------- ------------------------- 2.4/6.9 MB 5.0 MB/s eta 0:00:01\n",
      "   --------------- ------------------------ 2.7/6.9 MB 5.0 MB/s eta 0:00:01\n",
      "   ---------------- ----------------------- 2.9/6.9 MB 5.0 MB/s eta 0:00:01\n",
      "   ----------------- ---------------------- 3.1/6.9 MB 4.9 MB/s eta 0:00:01\n",
      "   ------------------- -------------------- 3.4/6.9 MB 5.0 MB/s eta 0:00:01\n",
      "   --------------------- ------------------ 3.6/6.9 MB 5.1 MB/s eta 0:00:01\n",
      "   ---------------------- ----------------- 3.9/6.9 MB 5.1 MB/s eta 0:00:01\n",
      "   ----------------------- ---------------- 4.1/6.9 MB 5.1 MB/s eta 0:00:01\n",
      "   ------------------------- -------------- 4.4/6.9 MB 5.1 MB/s eta 0:00:01\n",
      "   -------------------------- ------------- 4.6/6.9 MB 5.0 MB/s eta 0:00:01\n",
      "   ---------------------------- ----------- 4.9/6.9 MB 5.1 MB/s eta 0:00:01\n",
      "   ----------------------------- ---------- 5.1/6.9 MB 5.1 MB/s eta 0:00:01\n",
      "   ------------------------------ --------- 5.3/6.9 MB 5.1 MB/s eta 0:00:01\n",
      "   -------------------------------- ------- 5.6/6.9 MB 5.1 MB/s eta 0:00:01\n",
      "   ---------------------------------- ----- 5.9/6.9 MB 5.2 MB/s eta 0:00:01\n",
      "   ----------------------------------- ---- 6.2/6.9 MB 5.2 MB/s eta 0:00:01\n",
      "   ------------------------------------ --- 6.3/6.9 MB 5.2 MB/s eta 0:00:01\n",
      "   ------------------------------------- -- 6.5/6.9 MB 5.1 MB/s eta 0:00:01\n",
      "   ---------------------------------------  6.8/6.9 MB 5.1 MB/s eta 0:00:01\n",
      "   ---------------------------------------  6.9/6.9 MB 5.2 MB/s eta 0:00:01\n",
      "   ---------------------------------------- 6.9/6.9 MB 4.9 MB/s eta 0:00:00\n",
      "Downloading gitdb-4.0.12-py3-none-any.whl (62 kB)\n",
      "   ---------------------------------------- 0.0/62.8 kB ? eta -:--:--\n",
      "   ---------------------------------------- 62.8/62.8 kB 3.3 MB/s eta 0:00:00\n",
      "Downloading narwhals-1.29.1-py3-none-any.whl (308 kB)\n",
      "   ---------------------------------------- 0.0/308.2 kB ? eta -:--:--\n",
      "   --------------------------------- ------ 256.0/308.2 kB 5.2 MB/s eta 0:00:01\n",
      "   ---------------------------------------- 308.2/308.2 kB 4.8 MB/s eta 0:00:00\n",
      "Downloading smmap-5.0.2-py3-none-any.whl (24 kB)\n",
      "Installing collected packages: smmap, protobuf, narwhals, cachetools, blinker, pydeck, gitdb, gitpython, altair, streamlit\n",
      "Successfully installed altair-5.5.0 blinker-1.9.0 cachetools-5.5.2 gitdb-4.0.12 gitpython-3.1.44 narwhals-1.29.1 protobuf-5.29.3 pydeck-0.9.1 smmap-5.0.2 streamlit-1.43.1\n"
     ]
    }
   ],
   "source": [
    "pip install streamlit"
   ]
  },
  {
   "cell_type": "code",
   "execution_count": 16,
   "metadata": {},
   "outputs": [
    {
     "name": "stderr",
     "output_type": "stream",
     "text": [
      "[NbConvertApp] Converting notebook XGBoost_GridSearchCV.ipynb to script\n",
      "[NbConvertApp] Writing 6662 bytes to XGBoost_GridSearchCV.py\n"
     ]
    }
   ],
   "source": [
    "!jupyter nbconvert --to script XGBoost_GridSearchCV.ipynb\n"
   ]
  },
  {
   "cell_type": "code",
   "execution_count": null,
   "metadata": {},
   "outputs": [],
   "source": []
  }
 ],
 "metadata": {
  "colab": {
   "provenance": []
  },
  "kernelspec": {
   "display_name": "Python 3 (ipykernel)",
   "language": "python",
   "name": "python3"
  },
  "language_info": {
   "codemirror_mode": {
    "name": "ipython",
    "version": 3
   },
   "file_extension": ".py",
   "mimetype": "text/x-python",
   "name": "python",
   "nbconvert_exporter": "python",
   "pygments_lexer": "ipython3",
   "version": "3.11.5"
  }
 },
 "nbformat": 4,
 "nbformat_minor": 4
}
